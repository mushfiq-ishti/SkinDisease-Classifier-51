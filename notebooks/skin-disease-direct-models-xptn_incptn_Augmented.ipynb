{
 "cells": [
  {
   "cell_type": "markdown",
   "metadata": {},
   "source": [
    "<h1><b>Importing Libraries</b></h1>"
   ]
  },
  {
   "cell_type": "code",
   "execution_count": null,
   "metadata": {
    "_cell_guid": "b1076dfc-b9ad-4769-8c92-a6c4dae69d19",
    "_kg_hide-output": false,
    "_uuid": "8f2839f25d086af736a60e9eeb907d3b93b6e0e5",
    "execution": {
     "iopub.execute_input": "2025-08-23T05:49:57.532968Z",
     "iopub.status.busy": "2025-08-23T05:49:57.532349Z",
     "iopub.status.idle": "2025-08-23T05:50:46.553175Z",
     "shell.execute_reply": "2025-08-23T05:50:46.552245Z",
     "shell.execute_reply.started": "2025-08-23T05:49:57.532934Z"
    },
    "trusted": true
   },
   "outputs": [],
   "source": [
    "#import os\n",
    "#for dirname, _, filenames in os.walk('/kaggle/input'):\n",
    "#    for filename in filenames:\n",
    "#        os.path.join(dirname, filename)"
   ]
  },
  {
   "cell_type": "code",
   "execution_count": null,
   "metadata": {
    "execution": {
     "iopub.execute_input": "2025-08-31T15:15:04.753423Z",
     "iopub.status.busy": "2025-08-31T15:15:04.753271Z",
     "iopub.status.idle": "2025-08-31T15:15:36.429487Z",
     "shell.execute_reply": "2025-08-31T15:15:36.428888Z",
     "shell.execute_reply.started": "2025-08-31T15:15:04.753407Z"
    },
    "trusted": true
   },
   "outputs": [],
   "source": [
    "import numpy as np\n",
    "import pandas as pd\n",
    "import random\n",
    "import os\n",
    "import cv2\n",
    "import matplotlib.pyplot as plt\n",
    "import seaborn as sns\n",
    "import tensorflow as tf\n",
    "import keras\n",
    "from collections import Counter\n",
    "from tqdm import tqdm\n",
    "from keras.callbacks import EarlyStopping, ModelCheckpoint\n",
    "from sklearn.metrics import confusion_matrix , accuracy_score\n",
    "from sklearn.metrics import classification_report\n",
    "from sklearn.model_selection import train_test_split\n",
    "from sklearn.preprocessing import LabelEncoder\n",
    "\n",
    "from sklearn.metrics import recall_score, precision_score, f1_score, matthews_corrcoef, confusion_matrix, accuracy_score\n",
    "#from imblearn.metrics import geometric_mean_score\n",
    "import seaborn as sns\n",
    "import matplotlib.pyplot as plt\n",
    "\n",
    "import warnings\n",
    "warnings.filterwarnings('ignore')\n",
    "\n",
    "import torch\n",
    "from torchvision import datasets"
   ]
  },
  {
   "cell_type": "markdown",
   "metadata": {},
   "source": [
    "<h1><b>Dataset Loading</b></h1>"
   ]
  },
  {
   "cell_type": "code",
   "execution_count": null,
   "metadata": {
    "execution": {
     "iopub.execute_input": "2025-08-31T15:15:36.430767Z",
     "iopub.status.busy": "2025-08-31T15:15:36.430241Z",
     "iopub.status.idle": "2025-08-31T15:15:36.434249Z",
     "shell.execute_reply": "2025-08-31T15:15:36.433671Z",
     "shell.execute_reply.started": "2025-08-31T15:15:36.430742Z"
    },
    "trusted": true
   },
   "outputs": [],
   "source": [
    "dataset_path = '/kaggle/input/51-skin-disease/Best_50_class'"
   ]
  },
  {
   "cell_type": "code",
   "execution_count": null,
   "metadata": {
    "execution": {
     "iopub.execute_input": "2025-08-31T15:15:36.435631Z",
     "iopub.status.busy": "2025-08-31T15:15:36.435349Z",
     "iopub.status.idle": "2025-08-31T15:16:03.485028Z",
     "shell.execute_reply": "2025-08-31T15:16:03.484278Z",
     "shell.execute_reply.started": "2025-08-31T15:15:36.435614Z"
    },
    "trusted": true
   },
   "outputs": [],
   "source": [
    "dataset = datasets.ImageFolder(root= dataset_path)\n",
    "class_names = dataset.classes\n",
    "print(class_names)"
   ]
  },
  {
   "cell_type": "code",
   "execution_count": null,
   "metadata": {
    "execution": {
     "iopub.execute_input": "2025-08-31T15:16:03.486192Z",
     "iopub.status.busy": "2025-08-31T15:16:03.485914Z",
     "iopub.status.idle": "2025-08-31T15:16:03.491931Z",
     "shell.execute_reply": "2025-08-31T15:16:03.491266Z",
     "shell.execute_reply.started": "2025-08-31T15:16:03.486173Z"
    },
    "trusted": true
   },
   "outputs": [],
   "source": [
    "# dataset.targets has numeric labels for each image\n",
    "counts = Counter(dataset.targets)\n",
    "\n",
    "# Map counts to class names\n",
    "for class_idx, count in counts.items():\n",
    "    print(f\"{dataset.classes[class_idx]}: {count} images\")"
   ]
  },
  {
   "cell_type": "code",
   "execution_count": null,
   "metadata": {
    "execution": {
     "iopub.execute_input": "2025-08-31T04:18:59.528790Z",
     "iopub.status.busy": "2025-08-31T04:18:59.528592Z",
     "iopub.status.idle": "2025-08-31T04:18:59.598822Z",
     "shell.execute_reply": "2025-08-31T04:18:59.598266Z",
     "shell.execute_reply.started": "2025-08-31T04:18:59.528776Z"
    },
    "trusted": true
   },
   "outputs": [],
   "source": [
    "df_counts = pd.DataFrame({\n",
    "    \"Class\": [dataset.classes[idx] for idx in counts.keys()],\n",
    "    \"Count\": [counts[idx] for idx in counts.keys()]\n",
    "})\n",
    "\n",
    "# Save to CSV\n",
    "df_counts.to_csv(\"class_counts.csv\", index=False)\n",
    "\n",
    "print(\"Counts saved to class_counts.csv\")"
   ]
  },
  {
   "cell_type": "markdown",
   "metadata": {},
   "source": [
    "<h2><b>Dataset Splitting</b></h2>"
   ]
  },
  {
   "cell_type": "code",
   "execution_count": null,
   "metadata": {
    "execution": {
     "iopub.execute_input": "2025-08-31T15:26:43.741855Z",
     "iopub.status.busy": "2025-08-31T15:26:43.741293Z",
     "iopub.status.idle": "2025-08-31T15:26:49.401255Z",
     "shell.execute_reply": "2025-08-31T15:26:49.400671Z",
     "shell.execute_reply.started": "2025-08-31T15:26:43.741830Z"
    },
    "trusted": true
   },
   "outputs": [],
   "source": [
    "import tensorflow as tf\n",
    "from tensorflow.keras.applications.xception import Xception, preprocess_input\n",
    "from tensorflow.keras import layers, models\n",
    "\n",
    "# =========================\n",
    "# Dataset creation\n",
    "# =========================\n",
    "data_dir = dataset_path\n",
    "img_size = (299, 299)\n",
    "batch_size = 32\n",
    "\n",
    "# 70% train+val pool\n",
    "train_val_ds = tf.keras.preprocessing.image_dataset_from_directory(\n",
    "    data_dir,\n",
    "    validation_split=0.30,   # leave 30% for val+test\n",
    "    subset=\"training\",\n",
    "    seed=123,\n",
    "    image_size=img_size,\n",
    "    batch_size=batch_size,\n",
    "    label_mode='categorical'\n",
    ")\n",
    "\n",
    "# 30% (val+test pool)\n",
    "val_test_ds = tf.keras.preprocessing.image_dataset_from_directory(\n",
    "    data_dir,\n",
    "    validation_split=0.30,\n",
    "    subset=\"validation\",\n",
    "    seed=123,\n",
    "    image_size=img_size,\n",
    "    batch_size=batch_size,\n",
    "    label_mode='categorical'\n",
    ")\n",
    "\n",
    "# Split val_test_ds into 15% val and 15% test\n",
    "val_test_size = val_test_ds.cardinality().numpy()\n",
    "val_size = val_test_size // 2\n",
    "test_size = val_test_size - val_size\n",
    "\n",
    "val_ds = val_test_ds.take(val_size)\n",
    "test_ds = val_test_ds.skip(val_size)\n",
    "\n",
    "train_ds = train_val_ds  # already 70%"
   ]
  },
  {
   "cell_type": "code",
   "execution_count": null,
   "metadata": {
    "execution": {
     "iopub.execute_input": "2025-08-31T15:36:21.995919Z",
     "iopub.status.busy": "2025-08-31T15:36:21.995283Z",
     "iopub.status.idle": "2025-08-31T15:36:22.002053Z",
     "shell.execute_reply": "2025-08-31T15:36:22.001251Z",
     "shell.execute_reply.started": "2025-08-31T15:36:21.995896Z"
    },
    "trusted": true
   },
   "outputs": [],
   "source": [
    "batch_size = 32  # Use the same batch size you set\n",
    "\n",
    "def dataset_size(dataset):\n",
    "    # Get number of batches\n",
    "    batches = dataset.cardinality().numpy()\n",
    "    if batches == tf.data.INFINITE_CARDINALITY or batches == tf.data.UNKNOWN_CARDINALITY:\n",
    "        return \"Unknown size\"\n",
    "    else:\n",
    "        return batches * batch_size\n",
    "\n",
    "print(\"Train set size:\", dataset_size(train_ds))\n",
    "print(\"Validation set size:\", dataset_size(val_ds))\n",
    "print(\"Test set size:\", dataset_size(test_ds))"
   ]
  },
  {
   "cell_type": "markdown",
   "metadata": {},
   "source": [
    "<h2><b>Data Augmentation</b></h2>"
   ]
  },
  {
   "cell_type": "code",
   "execution_count": null,
   "metadata": {
    "trusted": true
   },
   "outputs": [],
   "source": [
    "# =========================\n",
    "# Data Augmentation\n",
    "# =========================\n",
    "data_augmentation = tf.keras.Sequential([\n",
    "    layers.RandomFlip(\"horizontal\"),\n",
    "    layers.RandomRotation(0.1),\n",
    "    layers.RandomZoom(0.1),\n",
    "    layers.RandomContrast(0.1),\n",
    "])\n",
    "\n",
    "# =========================\n",
    "# Preprocessing\n",
    "# =========================\n",
    "AUTOTUNE = tf.data.AUTOTUNE\n",
    "\n",
    "def preprocess_batch(images, labels):\n",
    "    images = preprocess_input(images)\n",
    "    return images, labels\n",
    "\n",
    "train_ds = train_ds.map(preprocess_batch, num_parallel_calls=AUTOTUNE).prefetch(AUTOTUNE)\n",
    "val_ds = val_ds.map(preprocess_batch, num_parallel_calls=AUTOTUNE).prefetch(AUTOTUNE)\n",
    "test_ds = test_ds.map(preprocess_batch, num_parallel_calls=AUTOTUNE).prefetch(AUTOTUNE)"
   ]
  },
  {
   "cell_type": "markdown",
   "metadata": {},
   "source": [
    "<h2><b>Xception</b></h2>"
   ]
  },
  {
   "cell_type": "code",
   "execution_count": null,
   "metadata": {
    "trusted": true
   },
   "outputs": [],
   "source": [
    "# =========================\n",
    "# Model creation with augmentation\n",
    "# =========================\n",
    "num_classes = len(train_val_ds.class_names)\n",
    "\n",
    "base_model = Xception(\n",
    "    weights='imagenet',\n",
    "    include_top=False,\n",
    "    input_shape=(img_size[0], img_size[1], 3)\n",
    ")\n",
    "base_model.trainable = False  # Freeze base model\n",
    "\n",
    "model = models.Sequential([\n",
    "    # Add data augmentation\n",
    "    data_augmentation,\n",
    "    \n",
    "    # Preprocessing (scaling to [-1, 1])\n",
    "    layers.Rescaling(1./127.5, offset=-1),\n",
    "    \n",
    "    # Base model\n",
    "    base_model,\n",
    "    \n",
    "    # Classifier\n",
    "    layers.GlobalAveragePooling2D(),\n",
    "    layers.Dense(256, activation='relu'),\n",
    "    layers.Dropout(0.4),\n",
    "    layers.Dense(num_classes, activation='softmax')\n",
    "])\n",
    "\n",
    "model.compile(\n",
    "    optimizer=tf.keras.optimizers.Adam(learning_rate=1e-4),\n",
    "    loss='categorical_crossentropy',\n",
    "    metrics=['accuracy']\n",
    ")\n",
    "\n",
    "model.summary()\n",
    "\n",
    "# Add callbacks\n",
    "early_stopping = tf.keras.callbacks.EarlyStopping(\n",
    "    monitor='val_loss', patience=5, restore_best_weights=True\n",
    ")\n",
    "checkpoint = tf.keras.callbacks.ModelCheckpoint(\n",
    "    'best_xception_model_augmented.h5',\n",
    "    monitor='val_loss',\n",
    "    save_best_only=True,\n",
    "    verbose=1\n",
    ")"
   ]
  },
  {
   "cell_type": "code",
   "execution_count": null,
   "metadata": {
    "trusted": true
   },
   "outputs": [],
   "source": [
    "# Train the model\n",
    "history = model.fit(\n",
    "    train_ds,\n",
    "    validation_data=val_ds,\n",
    "    epochs=50,\n",
    "    callbacks=[early_stopping, checkpoint]\n",
    ")"
   ]
  },
  {
   "cell_type": "markdown",
   "metadata": {},
   "source": [
    "Results:"
   ]
  },
  {
   "cell_type": "code",
   "execution_count": null,
   "metadata": {
    "execution": {
     "iopub.execute_input": "2025-08-31T15:30:31.027109Z",
     "iopub.status.busy": "2025-08-31T15:30:31.026424Z",
     "iopub.status.idle": "2025-08-31T15:30:31.083657Z",
     "shell.execute_reply": "2025-08-31T15:30:31.083020Z",
     "shell.execute_reply.started": "2025-08-31T15:30:31.027080Z"
    },
    "trusted": true
   },
   "outputs": [],
   "source": [
    "hist_training_xception=pd.DataFrame(history.history)\n",
    "hist_training_xception\n",
    "# Save to CSV\n",
    "hist_training_xception.to_csv(\"hist_training_xception_augmented.csv\", index=False)\n",
    "print(\"XCeption Training history to hist_training_xception_augmented.csv\")"
   ]
  },
  {
   "cell_type": "code",
   "execution_count": null,
   "metadata": {
    "execution": {
     "iopub.execute_input": "2025-08-31T15:30:37.048610Z",
     "iopub.status.busy": "2025-08-31T15:30:37.048344Z",
     "iopub.status.idle": "2025-08-31T15:30:41.136715Z",
     "shell.execute_reply": "2025-08-31T15:30:41.135979Z",
     "shell.execute_reply.started": "2025-08-31T15:30:37.048591Z"
    },
    "trusted": true
   },
   "outputs": [],
   "source": [
    "#sections to modify\n",
    "fig, axs = plt.subplots(1, 2, figsize=(20, 6))\n",
    "\n",
    "num_epochs = len(history.history['accuracy'])  # total epochs trained\n",
    "\n",
    "# X ticks positions (integers from 0 to num_epochs, step 4)\n",
    "xticks = range(0, num_epochs + 1, 4)\n",
    "\n",
    "# Plot accuracy\n",
    "axs[0].plot(history.history['accuracy'], label='Train Accuracy')\n",
    "axs[0].plot(history.history['val_accuracy'], label='Validation Accuracy')\n",
    "axs[0].set_xlabel('Epoch', fontsize=20)\n",
    "axs[0].set_ylabel('Accuracy', fontsize=20)\n",
    "axs[0].set_title('Training and Validation Accuracy - Xception-Augmented', fontsize=22)\n",
    "axs[0].legend(fontsize=18)\n",
    "axs[0].set_xticks(xticks)\n",
    "axs[0].tick_params(axis='x', labelsize=18)\n",
    "axs[0].tick_params(axis='y', labelsize=18)\n",
    "axs[0].grid(True)\n",
    "\n",
    "# Plot loss\n",
    "axs[1].plot(history.history['loss'], label='Train Loss')\n",
    "axs[1].plot(history.history['val_loss'], label='Validation Loss')\n",
    "axs[1].set_xlabel('Epoch', fontsize=20)\n",
    "axs[1].set_ylabel('Loss', fontsize=20)\n",
    "axs[1].set_title('Training and Validation Loss - Xception-Augmented', fontsize=22)\n",
    "axs[1].legend(fontsize=18)\n",
    "axs[1].set_xticks(xticks)\n",
    "axs[1].tick_params(axis='x', labelsize=18)\n",
    "axs[1].tick_params(axis='y', labelsize=18)\n",
    "axs[1].grid(True)\n",
    "\n",
    "plt.tight_layout()\n",
    "\n",
    "# Save the combined figure\n",
    "plt.savefig('xception_training_curves_augmented.png', dpi=600)\n",
    "plt.savefig('xception_training_curves_augmented.pdf')\n",
    "\n",
    "plt.show()\n"
   ]
  },
  {
   "cell_type": "code",
   "execution_count": null,
   "metadata": {
    "execution": {
     "iopub.execute_input": "2025-08-31T15:31:20.958562Z",
     "iopub.status.busy": "2025-08-31T15:31:20.957238Z",
     "iopub.status.idle": "2025-08-31T15:32:33.537053Z",
     "shell.execute_reply": "2025-08-31T15:32:33.536339Z",
     "shell.execute_reply.started": "2025-08-31T15:31:20.958536Z"
    },
    "trusted": true
   },
   "outputs": [],
   "source": [
    "from sklearn.metrics import confusion_matrix, accuracy_score, recall_score, precision_score, f1_score, matthews_corrcoef\n",
    "\n",
    "# 1. Get true and predicted labels\n",
    "y_true = []\n",
    "y_pred = []\n",
    "\n",
    "for images, labels in test_ds:\n",
    "    preds = model.predict(images)\n",
    "    y_true.extend(np.argmax(labels.numpy(), axis=1))\n",
    "    y_pred.extend(np.argmax(preds, axis=1))\n",
    "\n",
    "y_true = np.array(y_true)\n",
    "y_pred = np.array(y_pred)\n",
    "\n",
    "# 2. Compute confusion matrix and metrics\n",
    "cm = confusion_matrix(y_true, y_pred)\n",
    "accuracy = accuracy_score(y_true, y_pred)\n",
    "mcc = matthews_corrcoef(y_true, y_pred)\n",
    "recall = recall_score(y_true, y_pred, average='weighted')\n",
    "precision = precision_score(y_true, y_pred, average='weighted')\n",
    "f1 = f1_score(y_true, y_pred, average='weighted')\n",
    "\n",
    "print(f\"Accuracy: {accuracy:.4f}\")\n",
    "print(f\"Recall: {recall:.4f}\")\n",
    "print(f\"Precision: {precision:.4f}\")\n",
    "print(f\"F1 Score: {f1:.4f}\")\n",
    "print(f'Matthews Correlation Coefficient: {mcc:.4f}')\n",
    "\n",
    "# 3. Plot confusion matrix\n",
    "plt.figure(figsize=(30, 25))\n",
    "sns.heatmap(cm, annot=True, fmt='d', cmap='Blues', \n",
    "            xticklabels= class_names, yticklabels= class_names)\n",
    "plt.xlabel('Predicted Label')\n",
    "plt.ylabel('True Label')\n",
    "plt.title('Confusion Matrix')\n",
    "plt.tight_layout()\n",
    "plt.savefig('xception_confusion_matrix_augmented.png', dpi=600)\n",
    "plt.savefig('xception_confusion_matrix_augmented.pdf')\n",
    "plt.show()\n",
    "\n",
    "# 4. Save metrics to CSV\n",
    "metrics = {\n",
    "    'Accuracy': [accuracy],\n",
    "    'Recall': [recall],\n",
    "    'Precision': [precision],\n",
    "    'F1 Score': [f1],\n",
    "    'MCC':[mcc]\n",
    "}\n",
    "# Save confusion matrix as CSV\n",
    "df_cm = pd.DataFrame(cm, index=class_names, columns=class_names)\n",
    "df_cm.to_csv(\"confusion_matrix_xception-augmented.csv\")\n",
    "\n",
    "df_metrics_xception = pd.DataFrame(metrics)\n",
    "df_metrics_xception.to_csv('performance_metrics_xception_augmented.csv', index=False)"
   ]
  },
  {
   "cell_type": "markdown",
   "metadata": {},
   "source": [
    "<h2><b>InceptionV3</b></h2>"
   ]
  },
  {
   "cell_type": "code",
   "execution_count": null,
   "metadata": {
    "execution": {
     "iopub.execute_input": "2025-08-31T15:40:12.682608Z",
     "iopub.status.busy": "2025-08-31T15:40:12.682303Z",
     "iopub.status.idle": "2025-08-31T15:40:14.870324Z",
     "shell.execute_reply": "2025-08-31T15:40:14.869769Z",
     "shell.execute_reply.started": "2025-08-31T15:40:12.682589Z"
    },
    "trusted": true
   },
   "outputs": [],
   "source": [
    "import tensorflow as tf\n",
    "from tensorflow.keras.applications.inception_v3 import InceptionV3, preprocess_input\n",
    "from tensorflow.keras import layers, models\n",
    "# =========================\n",
    "# Model setup (Transfer Learning)\n",
    "# =========================\n",
    "base_model = InceptionV3(\n",
    "    weights='imagenet',\n",
    "    include_top=False,\n",
    "    input_shape=(299, 299, 3)\n",
    ")\n",
    "base_model.trainable = False  # Freeze base model\n",
    "\n",
    "model = models.Sequential([\n",
    "    # Add data augmentation\n",
    "    data_augmentation,\n",
    "    \n",
    "    # Preprocessing (scaling to [-1, 1])\n",
    "    layers.Rescaling(1./127.5, offset=-1),\n",
    "    \n",
    "    base_model,\n",
    "    layers.GlobalAveragePooling2D(),\n",
    "    layers.Dense(256, activation='relu'),\n",
    "    layers.Dropout(0.5),\n",
    "    layers.Dense(len(train_val_ds.class_names), activation='softmax')\n",
    "])\n",
    "\n",
    "model.compile(\n",
    "    optimizer=tf.keras.optimizers.Adam(learning_rate=0.0001),\n",
    "    loss='categorical_crossentropy',\n",
    "    metrics=['accuracy']\n",
    ")\n",
    "\n",
    "model.summary()\n",
    "\n",
    "# Add callbacks\n",
    "early_stopping = tf.keras.callbacks.EarlyStopping(\n",
    "    monitor='val_loss', patience=5, restore_best_weights=True\n",
    ")\n",
    "checkpoint = tf.keras.callbacks.ModelCheckpoint(\n",
    "    'best_inception_model_augmented.h5',\n",
    "    monitor='val_loss',\n",
    "    save_best_only=True,\n",
    "    verbose=1\n",
    ")"
   ]
  },
  {
   "cell_type": "code",
   "execution_count": null,
   "metadata": {
    "execution": {
     "iopub.execute_input": "2025-08-31T15:40:36.169334Z",
     "iopub.status.busy": "2025-08-31T15:40:36.169051Z",
     "iopub.status.idle": "2025-08-31T15:42:15.934097Z",
     "shell.execute_reply": "2025-08-31T15:42:15.933423Z",
     "shell.execute_reply.started": "2025-08-31T15:40:36.169314Z"
    },
    "trusted": true
   },
   "outputs": [],
   "source": [
    "# Train the model\n",
    "history = model.fit(\n",
    "    train_ds,\n",
    "    validation_data=val_ds,\n",
    "    epochs=50,\n",
    "    callbacks=[early_stopping, checkpoint]\n",
    ")"
   ]
  },
  {
   "cell_type": "markdown",
   "metadata": {},
   "source": [
    "Results"
   ]
  },
  {
   "cell_type": "code",
   "execution_count": null,
   "metadata": {
    "execution": {
     "iopub.execute_input": "2025-08-31T15:42:28.475943Z",
     "iopub.status.busy": "2025-08-31T15:42:28.475310Z",
     "iopub.status.idle": "2025-08-31T15:42:28.482312Z",
     "shell.execute_reply": "2025-08-31T15:42:28.481513Z",
     "shell.execute_reply.started": "2025-08-31T15:42:28.475918Z"
    },
    "trusted": true
   },
   "outputs": [],
   "source": [
    "hist_training_inceptionv3=pd.DataFrame(history.history)\n",
    "hist_training_inceptionv3\n",
    "# Save to CSV\n",
    "hist_training_inceptionv3.to_csv(\"hist_training_inceptionv3_augmented.csv\", index=False)\n",
    "print(\"InceptionV3 Training history to hist_training_inceptionv3_augmented.csv\")"
   ]
  },
  {
   "cell_type": "code",
   "execution_count": null,
   "metadata": {
    "execution": {
     "iopub.execute_input": "2025-08-31T15:42:31.661558Z",
     "iopub.status.busy": "2025-08-31T15:42:31.661033Z",
     "iopub.status.idle": "2025-08-31T15:42:34.524734Z",
     "shell.execute_reply": "2025-08-31T15:42:34.524058Z",
     "shell.execute_reply.started": "2025-08-31T15:42:31.661533Z"
    },
    "trusted": true
   },
   "outputs": [],
   "source": [
    "#sections to modify\n",
    "fig, axs = plt.subplots(1, 2, figsize=(20, 6))\n",
    "\n",
    "num_epochs = len(history.history['accuracy'])  # total epochs trained\n",
    "\n",
    "# X ticks positions (integers from 0 to num_epochs, step 4)\n",
    "xticks = range(0, num_epochs + 1, 4)\n",
    "\n",
    "# Plot accuracy\n",
    "axs[0].plot(history.history['accuracy'], label='Train Accuracy')\n",
    "axs[0].plot(history.history['val_accuracy'], label='Validation Accuracy')\n",
    "axs[0].set_xlabel('Epoch', fontsize=20)\n",
    "axs[0].set_ylabel('Accuracy', fontsize=20)\n",
    "axs[0].set_title('Training and Validation Accuracy - InceptionV3-Augmented', fontsize=22)\n",
    "axs[0].legend(fontsize=18)\n",
    "axs[0].set_xticks(xticks)\n",
    "axs[0].tick_params(axis='x', labelsize=18)\n",
    "axs[0].tick_params(axis='y', labelsize=18)\n",
    "axs[0].grid(True)\n",
    "\n",
    "# Plot loss\n",
    "axs[1].plot(history.history['loss'], label='Train Loss')\n",
    "axs[1].plot(history.history['val_loss'], label='Validation Loss')\n",
    "axs[1].set_xlabel('Epoch', fontsize=20)\n",
    "axs[1].set_ylabel('Loss', fontsize=20)\n",
    "axs[1].set_title('Training and Validation Loss - InceptionV3-Augmented', fontsize=22)\n",
    "axs[1].legend(fontsize=18)\n",
    "axs[1].set_xticks(xticks)\n",
    "axs[1].tick_params(axis='x', labelsize=18)\n",
    "axs[1].tick_params(axis='y', labelsize=18)\n",
    "axs[1].grid(True)\n",
    "\n",
    "plt.tight_layout()\n",
    "\n",
    "# Save the combined figure\n",
    "plt.savefig('inceptionv3_training_curves_augmented.png', dpi=600)\n",
    "plt.savefig('inceptionv3_training_curves_augmented.pdf')\n",
    "\n",
    "plt.show()\n"
   ]
  },
  {
   "cell_type": "code",
   "execution_count": null,
   "metadata": {
    "execution": {
     "iopub.execute_input": "2025-08-31T15:43:18.778211Z",
     "iopub.status.busy": "2025-08-31T15:43:18.777548Z",
     "iopub.status.idle": "2025-08-31T15:44:22.219880Z",
     "shell.execute_reply": "2025-08-31T15:44:22.219213Z",
     "shell.execute_reply.started": "2025-08-31T15:43:18.778186Z"
    },
    "trusted": true
   },
   "outputs": [],
   "source": [
    "from sklearn.metrics import confusion_matrix, accuracy_score, recall_score, precision_score, f1_score, matthews_corrcoef\n",
    "\n",
    "# 1. Get true and predicted labels\n",
    "y_true = []\n",
    "y_pred = []\n",
    "\n",
    "for images, labels in test_ds:\n",
    "    preds = model.predict(images)\n",
    "    y_true.extend(np.argmax(labels.numpy(), axis=1))\n",
    "    y_pred.extend(np.argmax(preds, axis=1))\n",
    "\n",
    "y_true = np.array(y_true)\n",
    "y_pred = np.array(y_pred)\n",
    "\n",
    "# 2. Compute confusion matrix and metrics\n",
    "cm = confusion_matrix(y_true, y_pred)\n",
    "accuracy = accuracy_score(y_true, y_pred)\n",
    "mcc = matthews_corrcoef(y_true, y_pred)\n",
    "recall = recall_score(y_true, y_pred, average='weighted')\n",
    "precision = precision_score(y_true, y_pred, average='weighted')\n",
    "f1 = f1_score(y_true, y_pred, average='weighted')\n",
    "\n",
    "print(f\"Accuracy: {accuracy:.4f}\")\n",
    "print(f\"Recall: {recall:.4f}\")\n",
    "print(f\"Precision: {precision:.4f}\")\n",
    "print(f\"F1 Score: {f1:.4f}\")\n",
    "print(f'Matthews Correlation Coefficient: {mcc:.4f}')\n",
    "\n",
    "# 3. Plot confusion matrix\n",
    "plt.figure(figsize=(30, 25))\n",
    "sns.heatmap(cm, annot=True, fmt='d', cmap='Blues', \n",
    "            xticklabels= class_names, yticklabels= class_names)\n",
    "plt.xlabel('Predicted Label')\n",
    "plt.ylabel('True Label')\n",
    "plt.title('Confusion Matrix')\n",
    "plt.tight_layout()\n",
    "plt.savefig('inceptionv3_confusion_matrix_augmented.png', dpi=600)\n",
    "plt.savefig('inceptionv3_confusion_matrix_augmented.pdf')\n",
    "plt.show()\n",
    "\n",
    "# 4. Save metrics to CSV\n",
    "metrics = {\n",
    "    'Accuracy': [accuracy],\n",
    "    'Recall': [recall],\n",
    "    'Precision': [precision],\n",
    "    'F1 Score': [f1],\n",
    "    'MCC':[mcc]\n",
    "}\n",
    "# Save confusion matrix as CSV\n",
    "df_cm = pd.DataFrame(cm, index=class_names, columns=class_names)\n",
    "df_cm.to_csv(\"confusion_inceptionv3_augmented.csv\")\n",
    "\n",
    "df_metrics_inceptionv3 = pd.DataFrame(metrics)\n",
    "df_metrics_inceptionv3.to_csv('performance_metrics_inceptionv3_augmented.csv', index=False)"
   ]
  },
  {
   "cell_type": "markdown",
   "metadata": {},
   "source": [
    "<h1><b>Zipping all outputs</b></h1>"
   ]
  },
  {
   "cell_type": "code",
   "execution_count": null,
   "metadata": {
    "execution": {
     "iopub.execute_input": "2025-08-23T07:04:58.868145Z",
     "iopub.status.busy": "2025-08-23T07:04:58.867857Z",
     "iopub.status.idle": "2025-08-23T07:05:16.022690Z",
     "shell.execute_reply": "2025-08-23T07:05:16.021986Z",
     "shell.execute_reply.started": "2025-08-23T07:04:58.868124Z"
    },
    "trusted": true
   },
   "outputs": [],
   "source": [
    "!zip -r /kaggle/working/output_files_xceptionAugmented_inceptionv3Augmented.zip /kaggle/working/*\n",
    "#!zip -r /kaggle/working/output_files_xception_vgg16_mobilenetv3_inceptionv.zip /kaggle/working/*"
   ]
  }
 ],
 "metadata": {
  "kaggle": {
   "accelerator": "nvidiaTeslaT4",
   "dataSources": [
    {
     "datasetId": 8129685,
     "sourceId": 12853359,
     "sourceType": "datasetVersion"
    }
   ],
   "dockerImageVersionId": 31089,
   "isGpuEnabled": true,
   "isInternetEnabled": true,
   "language": "python",
   "sourceType": "notebook"
  },
  "kernelspec": {
   "display_name": "Python 3",
   "language": "python",
   "name": "python3"
  },
  "language_info": {
   "codemirror_mode": {
    "name": "ipython",
    "version": 3
   },
   "file_extension": ".py",
   "mimetype": "text/x-python",
   "name": "python",
   "nbconvert_exporter": "python",
   "pygments_lexer": "ipython3",
   "version": "3.11.13"
  }
 },
 "nbformat": 4,
 "nbformat_minor": 4
}
